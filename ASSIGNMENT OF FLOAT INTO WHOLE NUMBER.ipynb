{
 "cells": [
  {
   "cell_type": "markdown",
   "metadata": {},
   "source": [
    "ASSIGNMENT OF WHOLE NUMBER"
   ]
  },
  {
   "cell_type": "code",
   "execution_count": 2,
   "metadata": {},
   "outputs": [
    {
     "name": "stdout",
     "output_type": "stream",
     "text": [
      "ENTER ANY NUMBER? 46.78\n",
      "NUMBER + 100 =  146\n",
      "HALF OF THE NUMBER IS : 23.0\n",
      "END PROGRAM\n"
     ]
    }
   ],
   "source": [
    "num = float(input(\"ENTER ANY NUMBER? \"))\n",
    "num = int(num)\n",
    "x = num + 100\n",
    "y = num / 2\n",
    "print (\"NUMBER + 100 = \",x)\n",
    "print (\"HALF OF THE NUMBER IS :\",y)\n",
    "print (\"END PROGRAM\")"
   ]
  },
  {
   "cell_type": "code",
   "execution_count": null,
   "metadata": {},
   "outputs": [],
   "source": []
  }
 ],
 "metadata": {
  "kernelspec": {
   "display_name": "Python 3",
   "language": "python",
   "name": "python3"
  },
  "language_info": {
   "codemirror_mode": {
    "name": "ipython",
    "version": 3
   },
   "file_extension": ".py",
   "mimetype": "text/x-python",
   "name": "python",
   "nbconvert_exporter": "python",
   "pygments_lexer": "ipython3",
   "version": "3.7.3"
  }
 },
 "nbformat": 4,
 "nbformat_minor": 2
}
