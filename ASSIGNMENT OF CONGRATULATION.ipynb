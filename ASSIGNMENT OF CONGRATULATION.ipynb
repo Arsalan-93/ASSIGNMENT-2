{
 "cells": [
  {
   "cell_type": "markdown",
   "metadata": {},
   "source": [
    "ASSIGNMENT OF CONGRATULATION MESSAGE"
   ]
  },
  {
   "cell_type": "code",
   "execution_count": 1,
   "metadata": {},
   "outputs": [
    {
     "name": "stdout",
     "output_type": "stream",
     "text": [
      "ENTER YOUR NAME?  muhammad arsalan akber\n",
      "ENTER YOUR YEAR OF JOINING?  1934\n",
      "CONGRATULATION MUHAMMAD ARSALAN AKBER FOR YOUR 85 YEAR SERVICE\n",
      "END PROGRAM\n"
     ]
    }
   ],
   "source": [
    "name = input(\"ENTER YOUR NAME?  \").upper()\n",
    "join = int(input(\"ENTER YOUR YEAR OF JOINING?  \"))\n",
    "pyear = 2019\n",
    "formula = pyear-join\n",
    "print (\"CONGRATULATION\",name,\"FOR YOUR\",formula,\"YEAR SERVICE\" )\n",
    "print (\"END PROGRAM\")"
   ]
  },
  {
   "cell_type": "code",
   "execution_count": null,
   "metadata": {},
   "outputs": [],
   "source": []
  }
 ],
 "metadata": {
  "kernelspec": {
   "display_name": "Python 3",
   "language": "python",
   "name": "python3"
  },
  "language_info": {
   "codemirror_mode": {
    "name": "ipython",
    "version": 3
   },
   "file_extension": ".py",
   "mimetype": "text/x-python",
   "name": "python",
   "nbconvert_exporter": "python",
   "pygments_lexer": "ipython3",
   "version": "3.7.3"
  }
 },
 "nbformat": 4,
 "nbformat_minor": 2
}
