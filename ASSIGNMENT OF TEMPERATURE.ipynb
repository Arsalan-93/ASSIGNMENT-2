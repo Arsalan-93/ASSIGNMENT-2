{
 "cells": [
  {
   "cell_type": "markdown",
   "metadata": {},
   "source": [
    "ASSIGNMENT OF TEMPERATURE"
   ]
  },
  {
   "cell_type": "code",
   "execution_count": 1,
   "metadata": {
    "scrolled": true
   },
   "outputs": [
    {
     "name": "stdout",
     "output_type": "stream",
     "text": [
      "ENTER FARENHEIT TEMPERATUE ?  67\n",
      "CELCIUS TEMPERATURE :   19.444444444444446\n",
      "END PROGRAM\n"
     ]
    }
   ],
   "source": [
    "f =int(input(\"ENTER FARENHEIT TEMPERATUE ?  \"))\n",
    "c= (5/9)*(f-32)\n",
    "print (\"CELCIUS TEMPERATURE :  \",c)\n",
    "print (\"END PROGRAM\")"
   ]
  },
  {
   "cell_type": "code",
   "execution_count": null,
   "metadata": {},
   "outputs": [],
   "source": []
  }
 ],
 "metadata": {
  "kernelspec": {
   "display_name": "Python 3",
   "language": "python",
   "name": "python3"
  },
  "language_info": {
   "codemirror_mode": {
    "name": "ipython",
    "version": 3
   },
   "file_extension": ".py",
   "mimetype": "text/x-python",
   "name": "python",
   "nbconvert_exporter": "python",
   "pygments_lexer": "ipython3",
   "version": "3.7.3"
  }
 },
 "nbformat": 4,
 "nbformat_minor": 2
}
